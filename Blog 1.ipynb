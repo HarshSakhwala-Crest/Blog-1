{
 "cells": [
  {
   "cell_type": "markdown",
   "metadata": {},
   "source": [
    "# Build generative AI applications on Amazon Bedrock with the AWS SDK for Python (Boto3)"
   ]
  },
  {
   "cell_type": "code",
   "execution_count": 1,
   "metadata": {},
   "outputs": [
    {
     "name": "stdout",
     "output_type": "stream",
     "text": [
      "Defaulting to user installation because normal site-packages is not writeable\n",
      "Requirement already satisfied: boto3 in c:\\users\\harshsakhwala\\appdata\\local\\packages\\pythonsoftwarefoundation.python.3.13_qbz5n2kfra8p0\\localcache\\local-packages\\python313\\site-packages (1.36.17)\n",
      "Requirement already satisfied: botocore<1.37.0,>=1.36.17 in c:\\users\\harshsakhwala\\appdata\\local\\packages\\pythonsoftwarefoundation.python.3.13_qbz5n2kfra8p0\\localcache\\local-packages\\python313\\site-packages (from boto3) (1.36.17)\n",
      "Requirement already satisfied: jmespath<2.0.0,>=0.7.1 in c:\\users\\harshsakhwala\\appdata\\local\\packages\\pythonsoftwarefoundation.python.3.13_qbz5n2kfra8p0\\localcache\\local-packages\\python313\\site-packages (from boto3) (1.0.1)\n",
      "Requirement already satisfied: s3transfer<0.12.0,>=0.11.0 in c:\\users\\harshsakhwala\\appdata\\local\\packages\\pythonsoftwarefoundation.python.3.13_qbz5n2kfra8p0\\localcache\\local-packages\\python313\\site-packages (from boto3) (0.11.2)\n",
      "Requirement already satisfied: python-dateutil<3.0.0,>=2.1 in c:\\users\\harshsakhwala\\appdata\\local\\packages\\pythonsoftwarefoundation.python.3.13_qbz5n2kfra8p0\\localcache\\local-packages\\python313\\site-packages (from botocore<1.37.0,>=1.36.17->boto3) (2.9.0.post0)\n",
      "Requirement already satisfied: urllib3!=2.2.0,<3,>=1.25.4 in c:\\users\\harshsakhwala\\appdata\\local\\packages\\pythonsoftwarefoundation.python.3.13_qbz5n2kfra8p0\\localcache\\local-packages\\python313\\site-packages (from botocore<1.37.0,>=1.36.17->boto3) (2.3.0)\n",
      "Requirement already satisfied: six>=1.5 in c:\\users\\harshsakhwala\\appdata\\local\\packages\\pythonsoftwarefoundation.python.3.13_qbz5n2kfra8p0\\localcache\\local-packages\\python313\\site-packages (from python-dateutil<3.0.0,>=2.1->botocore<1.37.0,>=1.36.17->boto3) (1.17.0)\n"
     ]
    }
   ],
   "source": [
    "! pip install boto3"
   ]
  },
  {
   "cell_type": "code",
   "execution_count": null,
   "metadata": {},
   "outputs": [
    {
     "name": "stdout",
     "output_type": "stream",
     "text": [
      "Response: The 2022 FIFA World Cup final between France and Argentina was an epic encounter that kept football fans on the edge of their seats. Here are some of the important moments from the match:\n",
      "\n",
      "1. Lionel Messi's Penalty (23rd minute): Argentina took the lead when Messi coolly converted a penalty kick after Ousmane Dembele brought down Angel Di Maria in the box.\n",
      "\n",
      "2. Angel Di Maria's Goal (36th minute): Di Maria doubled Argentina's lead with a brilliant strike from outside the box, giving them a 2-0 advantage at halftime.\n",
      "\n",
      "3. Kylian Mbappe's Penalty (80th minute): France pulled one back late in the second half when Mbappe converted a penalty kick after Nicolás Otamendi brought him down in the box.\n",
      "\n",
      "4. Kylian Mbappe's Equalizer (81st minute): Just a minute later, Mbappe scored a sensational volley to level the scores at 2-2, setting up a dramatic finish to the match.\n",
      "\n",
      "5. Lionel Messi's Goal (108th minute): In the first half of extra time, Messi regained the lead for Argentina with a delicate finish, putting them ahead 3-2.\n",
      "\n",
      "6. Kylian Mbappe's Hat-Trick (118th minute): Mbappe completed his hat-trick with a powerful strike from the edge of the box, equalizing for France once again at 3-3.\n",
      "\n",
      "7. Penalty Shootout: With the score level after 120 minutes, the match went to a penalty shootout. Both teams converted their first four penalties, but Aurelien Tchouameni and Kingsley Coman missed for France, while Argentina scored all four of their spot-kicks.\n",
      "\n",
      "8. Argentina's Victory: Argentina won the penalty shootout 4-2, securing their third World Cup title and ending Lionel Messi's quest for his first World Cup triumph.\n",
      "\n",
      "The final was a rollercoaster ride of emotions, with both teams displaying incredible resilience and individual brilliance from players like Messi and Mbappe. It will go down as one of the greatest World Cup finals in history.\n"
     ]
    }
   ],
   "source": [
    "import boto3\n",
    "import json\n",
    "\n",
    "# Set up the Amazon Bedrock client\n",
    "bedrock_client = boto3.client(\n",
    "    service_name=\"bedrock-runtime\",\n",
    "    region_name=\"us-east-1\"\n",
    ")\n",
    "\n",
    "# Define the model ID\n",
    "model_id = \"anthropic.claude-3-sonnet-20240229-v1:0\"\n",
    "\n",
    "# Prepare the input prompt\n",
    "prompt = \"Can you go me through important moments of complete 2022 FIFA World Cup Final Match between France and Argentina \"\n",
    "\n",
    "# Create the request payload\n",
    "payload = {\n",
    "    \"anthropic_version\": \"bedrock-2023-05-31\",\n",
    "    \"max_tokens\": 2000,\n",
    "    \"temperature\": 0.9,\n",
    "    \"top_k\": 250,\n",
    "    \"top_p\": 1,\n",
    "    \"messages\": [\n",
    "        {\n",
    "            \"role\": \"user\",\n",
    "            \"content\": [\n",
    "                {\n",
    "                    \"type\": \"text\",\n",
    "                    \"text\": prompt\n",
    "                }\n",
    "            ]\n",
    "        }\n",
    "    ]\n",
    "}\n",
    "\n",
    "# Invoke the Amazon Bedrock model\n",
    "response = bedrock_client.invoke_model(\n",
    "    modelId=model_id,\n",
    "    body=json.dumps(payload)\n",
    ")\n",
    "\n",
    "# Process the response\n",
    "result = json.loads(response[\"body\"].read())\n",
    "generated_text = \"\".join([output[\"text\"] for output in result[\"content\"]])\n",
    "print(f\"Response: {generated_text}\")"
   ]
  }
 ],
 "metadata": {
  "kernelspec": {
   "display_name": "Python 3",
   "language": "python",
   "name": "python3"
  },
  "language_info": {
   "codemirror_mode": {
    "name": "ipython",
    "version": 3
   },
   "file_extension": ".py",
   "mimetype": "text/x-python",
   "name": "python",
   "nbconvert_exporter": "python",
   "pygments_lexer": "ipython3",
   "version": "3.13.1"
  }
 },
 "nbformat": 4,
 "nbformat_minor": 2
}

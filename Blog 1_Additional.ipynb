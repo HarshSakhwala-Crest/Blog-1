{
 "cells": [
  {
   "cell_type": "markdown",
   "metadata": {},
   "source": [
    "# Blog 1 Additional - Comparing Responses Betweeen Diffenrent Models From Amazon Bedrock"
   ]
  },
  {
   "cell_type": "markdown",
   "metadata": {},
   "source": [
    "## Using Amazon Titan Text Generator"
   ]
  },
  {
   "cell_type": "code",
   "execution_count": 12,
   "metadata": {},
   "outputs": [
    {
     "name": "stdout",
     "output_type": "stream",
     "text": [
      "Response: \n",
      "Interstellar is a 147-minute English-language science fiction movie that became an instant sensation when it premiered in October 2014. It is the most expensive film ever made, with a budget of $165 million. It was praised by critics and audiences alike, with its visual effects, intense story, and emotional performances receiving praise from critics.\n",
      "\n",
      "The movie set a new record for the longest shot in a movie and featured a remarkable cast of actors, including Matthew McConaughey, Anne Hathaway, Jessica Chastain, Michael Caine, and many more. It was directed by Christopher Nolan and written by him, with Robert Siegel and Jonathan Nolan.\n",
      "\n",
      "In the movie, a group of explorers travel through a wormhole in search of a new home for humanity after earth is no longer habitable. They encounter a variety of challenges and obstacles along the way, including time dilation, gravitational anomalies, and a sentient AI system known as \"Murph.\"\n",
      "\n",
      "The visual effects in the movie are some of the best ever achieved, creating a realistic and immersive world that takes viewers on a journey through space and time. The movie uses advanced computer graphics and special effects to bring the wormhole and other visually stunning scenes to life.\n",
      "\n",
      "Another aspect of the movie that was praised by critics was its intense and emotional story. The movie explores themes of family, love, and sacrifice, and the characters are well-developed and relatable. The movie's emotional moments are powerful and leave a lasting impression on viewers.\n",
      "\n",
      "The cast of the movie is impressive, with Matthew McConaughey giving a nuanced performance as the main character, Cooper. Anne Hathaway is also excellent as Murph, the sentient AI system that helps the explorers navigate the wormhole. Jessica Chastain, Michael Caine, and Matt Damon all turn in powerful performances as well.\n",
      "\n",
      "One of the weaknesses of the movie is its pacing. Some critics felt that the plot was slow at times, and that the visual effects were not always as powerful as they could have been. However, overall, the pacing was not a significant issue for most viewers.\n",
      "\n",
      "Overall, Interstellar is a remarkable movie that combines stunning visual effects, intense storytelling, and emotional performances. The movie was praised by critics and audiences alike and set a new record for the longest shot in a movie. It is a must-watch for fans of science fiction and is a testament to the talent of Christopher Nolan as a director.\n"
     ]
    }
   ],
   "source": [
    "import boto3\n",
    "import json\n",
    "\n",
    "# Set up the Amazon Bedrock client\n",
    "bedrock_client = boto3.client(\n",
    "    service_name=\"bedrock-runtime\",\n",
    "    region_name=\"us-east-1\"\n",
    ")\n",
    "\n",
    "# Define the model ID\n",
    "model_id = \"amazon.titan-text-lite-v1\"\n",
    "\n",
    "# Prepare the input prompt\n",
    "prompt = \"Can you provide me the review of the movie interstellar directed by christopher nolan in all the aspects\"\n",
    "\n",
    "# Create the request payload\n",
    "payload = {\n",
    "    \"inputText\": prompt,\n",
    "    \"textGenerationConfig\": {\n",
    "        \"temperature\": 0.9,\n",
    "        \"topP\": 1,\n",
    "        \"maxTokenCount\": 2000,\n",
    "        \"stopSequences\": []\n",
    "    }\n",
    "}\n",
    "\n",
    "# Invoke the Amazon Bedrock model\n",
    "response = bedrock_client.invoke_model(\n",
    "    modelId=model_id,\n",
    "    body=json.dumps(payload),\n",
    "    accept=\"application/json\",\n",
    "    contentType=\"application/json\"\n",
    ")\n",
    "\n",
    "# Process the response\n",
    "result = json.loads(response[\"body\"].read())\n",
    "generated_text = \"\".join([output['outputText'] for output in result['results']])\n",
    "print(f\"Response: {generated_text}\")"
   ]
  },
  {
   "cell_type": "markdown",
   "metadata": {},
   "source": [
    "## Using Anthropic Claude 3 Sonnet"
   ]
  },
  {
   "cell_type": "code",
   "execution_count": 13,
   "metadata": {},
   "outputs": [
    {
     "name": "stdout",
     "output_type": "stream",
     "text": [
      "Response: Interstellar, directed by the visionary filmmaker Christopher Nolan, is a cinematic masterpiece that seamlessly blends science fiction, drama, and philosophical exploration. Here's a comprehensive review of the film, covering various aspects:\n",
      "\n",
      "1. Premise and Plot: The film's premise is both compelling and thought-provoking. Set in a dystopian future where Earth is slowly becoming uninhabitable due to environmental catastrophes, a group of explorers embark on an interstellar journey through a newly discovered wormhole to find a habitable planet for humanity's survival. The plot is intricate, with multiple timelines and narrative threads that intertwine beautifully, keeping the audience engaged throughout the film's nearly three-hour runtime.\n",
      "\n",
      "2. Direction and Cinematography: Christopher Nolan's direction is nothing short of exceptional. He masterfully crafts awe-inspiring visuals that capture the grandeur of space exploration and the vastness of the universe. The cinematography by Hoyte van Hoytema is breathtaking, with stunning shots of cosmic landscapes, black holes, and otherworldly environments. Nolan's attention to detail and his ability to convey complex scientific concepts through visual storytelling are truly remarkable.\n",
      "\n",
      "3. Performances: The cast delivers outstanding performances that elevate the emotional depth of the film. Matthew McConaughey's portrayal of Cooper, the former NASA pilot turned farmer, is both nuanced and powerful. Anne Hathaway shines as Dr. Amelia Brand, bringing a sense of determination and resilience to her character. Jessica Chastain's performance as the grown-up Murph is equally compelling, showcasing the emotional toll of the interstellar journey on those left behind.\n",
      "\n",
      "4. Scientific Accuracy: Interstellar has been praised for its commitment to scientific accuracy, thanks to the involvement of renowned theoretical physicist Kip Thorne as a consultant. The film explores complex concepts such as relativity, wormholes, and black holes with remarkable precision, while also taking artistic liberties to create a captivating narrative.\n",
      "\n",
      "5. Emotional Depth: Beyond its scientific and visual grandeur, Interstellar is a deeply emotional film that explores the profound bond between a father and his daughter. The film delves into themes of sacrifice, love, and the relentless pursuit of human survival, touching on the philosophical question of humanity's place in the universe.\n",
      "\n",
      "6. Score and Sound Design: Hans Zimmer's thunderous and emotionally charged score is a standout element of the film. The haunting organ melodies and pulsating rhythms perfectly complement the film's epic scale and heighten the emotional impact of key moments. The sound design, particularly in the intense space sequences, is immersive and adds to the overall cinematic experience.\n",
      "\n",
      "7. Themes and Symbolism: Interstellar is rich in themes and symbolism, exploring concepts of time, gravity, and the human condition. The film raises profound questions about the nature of love, the importance of human connection, and the sacrifices we make for the greater good of humanity.\n",
      "\n",
      "While Interstellar may not appeal to everyone due to its dense scientific content and lengthy runtime, it is undoubtedly a cinematic achievement that pushes the boundaries of what science fiction can achieve. Christopher Nolan's ambitious vision, combined with stunning visuals, powerful performances, and thought-provoking themes, make Interstellar a must-watch for those seeking a intellectually stimulating and emotionally resonant cinematic experience.\n"
     ]
    }
   ],
   "source": [
    "import boto3\n",
    "import json\n",
    "\n",
    "# Set up the Amazon Bedrock client\n",
    "bedrock_client = boto3.client(\n",
    "    service_name=\"bedrock-runtime\",\n",
    "    region_name=\"us-east-1\"\n",
    ")\n",
    "\n",
    "# Define the model ID\n",
    "model_id = \"anthropic.claude-3-sonnet-20240229-v1:0\"\n",
    "\n",
    "# Prepare the input prompt\n",
    "prompt = \"Can you provide me the review of the movie interstellar directed by christopher nolan in all the aspects\"\n",
    "\n",
    "# Create the request payload\n",
    "payload = {\n",
    "    \"anthropic_version\": \"bedrock-2023-05-31\",\n",
    "    \"max_tokens\": 2000,\n",
    "    \"temperature\": 0.9,\n",
    "    \"top_k\": 250,\n",
    "    \"top_p\": 1,\n",
    "    \"messages\": [\n",
    "        {\n",
    "            \"role\": \"user\",\n",
    "            \"content\": [\n",
    "                {\n",
    "                    \"type\": \"text\",\n",
    "                    \"text\": prompt\n",
    "                }\n",
    "            ]\n",
    "        }\n",
    "    ]\n",
    "}\n",
    "\n",
    "# Invoke the Amazon Bedrock model\n",
    "response = bedrock_client.invoke_model(\n",
    "    modelId=model_id,\n",
    "    body=json.dumps(payload)\n",
    ")\n",
    "\n",
    "# Process the response\n",
    "result = json.loads(response[\"body\"].read())\n",
    "generated_text = \"\".join([output[\"text\"] for output in result[\"content\"]])\n",
    "print(f\"Response: {generated_text}\")"
   ]
  },
  {
   "cell_type": "markdown",
   "metadata": {},
   "source": [
    "# Comparison of two responses by ChatGPT"
   ]
  },
  {
   "cell_type": "markdown",
   "metadata": {},
   "source": [
    "# **Comparison of Amazon Titan Text Lite vs. Anthropic Claude 3 Sonnet**\n",
    "## **1. Generation Time**\n",
    "- **Amazon Titan Text Lite**: **14.4 seconds**  \n",
    "- **Anthropic Claude 3 Sonnet**: **17.1 seconds**  \n",
    "\n",
    "🔹 **Titan** is **faster** by **2.7 seconds**, but response time alone isn't a key factor unless speed is critical.  \n",
    "\n",
    "---\n",
    "\n",
    "## **2. Quality of Responses**  \n",
    "\n",
    "### **A. Accuracy of Information**  \n",
    "🔻 **Titan contains factual errors:**  \n",
    "- Claims *Interstellar* is \"the most expensive film ever made\" (❌ Incorrect).  \n",
    "- States that **Anne Hathaway played Murph** (❌ Wrong—Murph is played by Mackenzie Foy & Jessica Chastain).  \n",
    "- Incorrectly lists **Robert Siegel as a co-writer** (❌ It was written by **Christopher & Jonathan Nolan**).  \n",
    "- Mentions a **\"record for the longest shot in a movie\"** (❌ False).  \n",
    "\n",
    "✅ **Claude 3 Sonnet provides accurate information:**  \n",
    "- Correctly acknowledges **Kip Thorne’s role** in the film’s scientific accuracy.  \n",
    "- Discusses themes, direction, and performances with factual correctness.  \n",
    "\n",
    "🏆 **Winner: Claude 3 Sonnet** (Higher Accuracy)  \n",
    "\n",
    "---\n",
    "\n",
    "### **B. Structure & Organization**  \n",
    "- **Titan**: A single **unstructured block of text**, making it harder to read.  \n",
    "- **Claude 3 Sonnet**: Well-organized with **clear sections** (_Plot, Direction, Performances, Themes, Score, etc._).  \n",
    "\n",
    "🏆 **Winner: Claude 3 Sonnet** (Better Organization)  \n",
    "\n",
    "---\n",
    "\n",
    "### **C. Depth of Analysis**  \n",
    "- **Titan**: **Surface-level review**, mostly discussing **visual effects and performances** but lacking depth.  \n",
    "- **Claude 3 Sonnet**: **In-depth** review covering **scientific accuracy, themes, cinematography, sound design, and philosophical questions**.  \n",
    "\n",
    "🏆 **Winner: Claude 3 Sonnet** (More Detailed Analysis)  \n",
    "\n",
    "---\n",
    "\n",
    "### **D. Language & Writing Quality**  \n",
    "- **Titan**: **Awkward phrasing** and **repetitive sentences** (_e.g., \"praised by critics and audiences\" appears twice_).  \n",
    "- **Claude 3 Sonnet**: **Polished, professional writing** with **clear articulation**.  \n",
    "\n",
    "🏆 **Winner: Claude 3 Sonnet** (Superior Writing Quality)  \n",
    "\n",
    "---\n",
    "\n",
    "## **3. Which Model is Preferable?**  \n",
    "| **Criterion**       | **Amazon Titan** | **Claude 3 Sonnet** |\n",
    "|---------------------|----------------|-------------------|\n",
    "| **Speed**          | ✅ Faster (14.4s) | ❌ Slower (17.1s) |\n",
    "| **Accuracy**       | ❌ Contains errors | ✅ Factually correct |\n",
    "| **Organization**   | ❌ Poor structure | ✅ Well-structured |\n",
    "| **Depth**          | ❌ Superficial | ✅ Detailed analysis |\n",
    "| **Writing Quality** | ❌ Repetitive | ✅ Polished and clear |\n",
    "\n",
    "### **Final Verdict**  \n",
    "- **If speed is the priority** → ✅ **Amazon Titan**  \n",
    "- **If quality, depth, and accuracy matter** → ✅ **Claude 3 Sonnet**  \n",
    "\n",
    "🚀 **Overall, Claude 3 Sonnet is the better model for high-quality, in-depth movie reviews.**  \n"
   ]
  }
 ],
 "metadata": {
  "kernelspec": {
   "display_name": "Python 3",
   "language": "python",
   "name": "python3"
  },
  "language_info": {
   "codemirror_mode": {
    "name": "ipython",
    "version": 3
   },
   "file_extension": ".py",
   "mimetype": "text/x-python",
   "name": "python",
   "nbconvert_exporter": "python",
   "pygments_lexer": "ipython3",
   "version": "3.13.1"
  }
 },
 "nbformat": 4,
 "nbformat_minor": 2
}
